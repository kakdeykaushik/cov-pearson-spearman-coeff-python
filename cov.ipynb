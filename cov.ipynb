{
  "nbformat": 4,
  "nbformat_minor": 0,
  "metadata": {
    "colab": {
      "name": "cov.ipynb",
      "provenance": [],
      "collapsed_sections": []
    },
    "kernelspec": {
      "name": "python3",
      "display_name": "Python 3"
    },
    "language_info": {
      "name": "python"
    }
  },
  "cells": [
    {
      "cell_type": "code",
      "metadata": {
        "id": "7LkGMCfRbS2r"
      },
      "source": [
        "import numpy as np\n",
        "import pandas as pd\n",
        "import matplotlib.pyplot as plt\n",
        "import seaborn as sns\n",
        "sns.set()\n",
        "\n",
        "from scipy.stats import pearsonr, spearmanr"
      ],
      "execution_count": 1,
      "outputs": []
    },
    {
      "cell_type": "markdown",
      "metadata": {
        "id": "BB5DazLdk1Fn"
      },
      "source": [
        "## Defining class"
      ]
    },
    {
      "cell_type": "code",
      "metadata": {
        "id": "FLxQPYvsfB2i"
      },
      "source": [
        "class Coefficients:\n",
        "\n",
        "  def __init__(self, x, y):\n",
        "    self.x, self.y = x, y\n",
        "\n",
        "    self.covariance = self._covariance()\n",
        "    self.pearson_correlation_coeff = self._pearson_correlation_coeff()\n",
        "    self.spearman_rank_correlation_coeff = self._spearman_rank_correlation_coeff()\n",
        "\n",
        "    self.plot()\n",
        "\n",
        "\n",
        "  \n",
        "\n",
        "  def getter(self):\n",
        "    # if you want these variables for further computation\n",
        "    return self.covariance, self.pearson_correlation_coeff, self.spearman_rank_correlation_coeff\n",
        "  \n",
        "  def _covariance(self):\n",
        "    return round(np.cov(self.x, self.y)[0][1], 5)\n",
        "\n",
        "  \n",
        "  def _pearson_correlation_coeff(self):\n",
        "    return round(pearsonr(x, y)[0], 5)\n",
        "    \n",
        "  \n",
        "  def _spearman_rank_correlation_coeff(self):\n",
        "    return round(spearmanr(x, y)[0], 5)\n",
        "\n",
        "  \n",
        "  def plot(self):\n",
        "    plt.figure(figsize=(12, 8))\n",
        "\n",
        "    title = \"Covariance = {}, \\nPearson correlation coefficient = {}, \\nSpearman's rank correlation coefficient = {}.\".format(self.covariance, self.pearson_correlation_coeff, self.spearman_rank_correlation_coeff)    \n",
        "\n",
        "    plt.title(title, fontsize=16)\n",
        "    plt.title(\"by Kaushik Kakdey\", loc='right', fontsize=8, color='grey', style='italic')\n",
        "\n",
        "\n",
        "    plt.scatter(self.x, self.y)\n",
        "    plt.show();\n",
        "\n",
        "\n",
        "\n"
      ],
      "execution_count": 2,
      "outputs": []
    },
    {
      "cell_type": "markdown",
      "metadata": {
        "id": "JF7bsgaOk4M4"
      },
      "source": [
        "## Data"
      ]
    },
    {
      "cell_type": "code",
      "metadata": {
        "id": "yrVYEGU_l4c0"
      },
      "source": [
        "data_dict = {}"
      ],
      "execution_count": 3,
      "outputs": []
    },
    {
      "cell_type": "markdown",
      "metadata": {
        "id": "xZA0FAKLmqL8"
      },
      "source": [
        "### Sample Data 1"
      ]
    },
    {
      "cell_type": "code",
      "metadata": {
        "id": "WdBJ4mT9l-cR"
      },
      "source": [
        "penguins = sns.load_dataset(\"penguins\")\n",
        "\n",
        "data_dict['data1'] = (penguins['bill_length_mm'], penguins['body_mass_g'])"
      ],
      "execution_count": 4,
      "outputs": []
    },
    {
      "cell_type": "markdown",
      "metadata": {
        "id": "WUDLDGGNmbeq"
      },
      "source": [
        "### Sample Data 2"
      ]
    },
    {
      "cell_type": "code",
      "metadata": {
        "id": "pvlehGdRmLmM"
      },
      "source": [
        "fmri = sns.load_dataset(\"fmri\")\n",
        "\n",
        "data_dict['data2'] = (fmri['timepoint'], fmri['signal'])"
      ],
      "execution_count": 5,
      "outputs": []
    },
    {
      "cell_type": "markdown",
      "metadata": {
        "id": "2vOGqVTiryca"
      },
      "source": [
        "### Sample Data 3\n"
      ]
    },
    {
      "cell_type": "code",
      "metadata": {
        "id": "IlSLdQamr0PK"
      },
      "source": [
        "def sigmoid(x):\n",
        "    return 1. / (1. + np.exp(-x))\n",
        " \n",
        "\n",
        "x = np.arange(-8, 8, 0.2)\n",
        "y = sigmoid(x)\n",
        "\n",
        "data_dict['data3'] = (x, y)"
      ],
      "execution_count": 6,
      "outputs": []
    },
    {
      "cell_type": "markdown",
      "metadata": {
        "id": "ovlPTZ8L5V35"
      },
      "source": [
        "### Sample Data 4"
      ]
    },
    {
      "cell_type": "code",
      "metadata": {
        "id": "Kq8RCanPsX5U"
      },
      "source": [
        "def rev_sigmoid(x):\n",
        "    return 1. / (1. + np.exp(x))\n",
        " \n",
        "\n",
        "x = np.arange(-8, 8, 0.2)\n",
        "y = rev_sigmoid(x)\n",
        "\n",
        "data_dict['data4'] = (x, y)"
      ],
      "execution_count": 7,
      "outputs": []
    },
    {
      "cell_type": "markdown",
      "metadata": {
        "id": "0bsV5EXalOfd"
      },
      "source": [
        "## Results"
      ]
    },
    {
      "cell_type": "code",
      "metadata": {
        "colab": {
          "base_uri": "https://localhost:8080/",
          "height": 538
        },
        "id": "NPiFhdKZb-oo",
        "outputId": "f5aece86-de79-4a7f-d590-6f9fcc71d3af"
      },
      "source": [
        "c = Coefficients(*data_dict['data4'])"
      ],
      "execution_count": 8,
      "outputs": [
        {
          "output_type": "display_data",
          "data": {
            "image/png": "[encoded data removed]",
            "text/plain": [
              "<Figure size 864x576 with 1 Axes>"
            ]
          },
          "metadata": {
            "tags": [],
            "needs_background": "light"
          }
        }
      ]
    },
    {
      "cell_type": "code",
      "metadata": {
        "id": "KgHaefI8rc8H"
      },
      "source": [
        ""
      ],
      "execution_count": 8,
      "outputs": []
    }
  ]
}